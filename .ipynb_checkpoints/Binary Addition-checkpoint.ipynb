{
 "cells": [
  {
   "cell_type": "markdown",
   "id": "99bca825",
   "metadata": {},
   "source": [
    "# Binary Addition"
   ]
  },
  {
   "cell_type": "markdown",
   "id": "4b296073",
   "metadata": {},
   "source": [
    "## Implement a function that adds two numbers together and returns their sum in binary. The conversion can be done before, or after the addition.The binary number returned should be a string.Examples:(Input1, Input2 --> Output (explanation)))\n",
    "\n",
    "## 1, 1 --> \"10\" (1 + 1 = 2 in decimal or 10 in binary)\n",
    "## 5, 9 --> \"1110\" (5 + 9 = 14 in decimal or 1110 in binary)"
   ]
  },
  {
   "cell_type": "code",
   "execution_count": 18,
   "id": "238c2124",
   "metadata": {},
   "outputs": [],
   "source": [
    "def add_binary(a,b):\n",
    "\n",
    "    return bin(a+b).replace(\"0b\",\"\")"
   ]
  },
  {
   "cell_type": "code",
   "execution_count": 19,
   "id": "cfc801b1",
   "metadata": {},
   "outputs": [
    {
     "data": {
      "text/plain": [
       "'110010011001101110001'"
      ]
     },
     "execution_count": 19,
     "metadata": {},
     "output_type": "execute_result"
    }
   ],
   "source": [
    "add_binary(5,1651564)"
   ]
  },
  {
   "cell_type": "code",
   "execution_count": null,
   "id": "6f7e7027",
   "metadata": {},
   "outputs": [],
   "source": []
  }
 ],
 "metadata": {
  "kernelspec": {
   "display_name": "Python 3 (ipykernel)",
   "language": "python",
   "name": "python3"
  },
  "language_info": {
   "codemirror_mode": {
    "name": "ipython",
    "version": 3
   },
   "file_extension": ".py",
   "mimetype": "text/x-python",
   "name": "python",
   "nbconvert_exporter": "python",
   "pygments_lexer": "ipython3",
   "version": "3.8.12"
  },
  "toc": {
   "base_numbering": 1,
   "nav_menu": {},
   "number_sections": true,
   "sideBar": true,
   "skip_h1_title": false,
   "title_cell": "Table of Contents",
   "title_sidebar": "Contents",
   "toc_cell": false,
   "toc_position": {},
   "toc_section_display": true,
   "toc_window_display": false
  }
 },
 "nbformat": 4,
 "nbformat_minor": 5
}
