{
 "cells": [
  {
   "cell_type": "markdown",
   "id": "6e390997",
   "metadata": {},
   "source": [
    "# Sum of Digits / Digital Root"
   ]
  },
  {
   "cell_type": "markdown",
   "id": "7d0b4037",
   "metadata": {},
   "source": [
    "## Given n, take the sum of the digits of n. If that value has more than one digit, continue reducing in this way until a single-digit number is produced. The input will be a non-negative integer."
   ]
  },
  {
   "cell_type": "code",
   "execution_count": 132,
   "id": "c7fd8709",
   "metadata": {},
   "outputs": [],
   "source": [
    "def digital_root(n):\n",
    "    \n",
    "    \n",
    "    numbers = 0\n",
    "    n = str(n)\n",
    "    for digit in n:\n",
    "        numbers += 1\n",
    "    while numbers > 1:      \n",
    "    \n",
    "        dig = []\n",
    "        for digit in n:\n",
    "            dig.append(digit)\n",
    "        res = []\n",
    "        sum = 0\n",
    "        for y in dig:\n",
    "            sum += int(y)\n",
    "            res.append(sum)   \n",
    "        dig = res[-1] \n",
    "        n = str(dig)    \n",
    "        numbers = len(n)\n",
    "    return int(n)\n",
    "\n",
    "\n",
    "        \n",
    "    \n"
   ]
  },
  {
   "cell_type": "code",
   "execution_count": 133,
   "id": "657b2ec6",
   "metadata": {},
   "outputs": [
    {
     "data": {
      "text/plain": [
       "8"
      ]
     },
     "execution_count": 133,
     "metadata": {},
     "output_type": "execute_result"
    }
   ],
   "source": [
    "digital_root(548)"
   ]
  },
  {
   "cell_type": "markdown",
   "id": "f6bd9d1e",
   "metadata": {},
   "source": [
    "## example of an solution on code wars"
   ]
  },
  {
   "cell_type": "code",
   "execution_count": 128,
   "id": "3675c4d9",
   "metadata": {},
   "outputs": [],
   "source": [
    "def digital_root1(n):\n",
    "    return n if n < 10 else digital_root(sum(map(int,str(n))))"
   ]
  },
  {
   "cell_type": "code",
   "execution_count": 129,
   "id": "b062c1e4",
   "metadata": {},
   "outputs": [
    {
     "data": {
      "text/plain": [
       "8"
      ]
     },
     "execution_count": 129,
     "metadata": {},
     "output_type": "execute_result"
    }
   ],
   "source": [
    "digital_root1(548)"
   ]
  },
  {
   "cell_type": "code",
   "execution_count": null,
   "id": "9b977f24",
   "metadata": {},
   "outputs": [],
   "source": []
  }
 ],
 "metadata": {
  "kernelspec": {
   "display_name": "Python 3 (ipykernel)",
   "language": "python",
   "name": "python3"
  },
  "language_info": {
   "codemirror_mode": {
    "name": "ipython",
    "version": 3
   },
   "file_extension": ".py",
   "mimetype": "text/x-python",
   "name": "python",
   "nbconvert_exporter": "python",
   "pygments_lexer": "ipython3",
   "version": "3.8.12"
  },
  "toc": {
   "base_numbering": 1,
   "nav_menu": {},
   "number_sections": true,
   "sideBar": true,
   "skip_h1_title": false,
   "title_cell": "Table of Contents",
   "title_sidebar": "Contents",
   "toc_cell": false,
   "toc_position": {},
   "toc_section_display": true,
   "toc_window_display": false
  }
 },
 "nbformat": 4,
 "nbformat_minor": 5
}
