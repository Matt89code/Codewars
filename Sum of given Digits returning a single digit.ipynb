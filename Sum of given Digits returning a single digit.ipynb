{
 "cells": [
  {
   "cell_type": "markdown",
   "id": "6e390997",
   "metadata": {},
   "source": [
    "# Sum of Digits / Digital Root"
   ]
  },
  {
   "cell_type": "markdown",
   "id": "7d0b4037",
   "metadata": {},
   "source": [
    "## Given n, take the sum of the digits of n. If that value has more than one digit, continue reducing in this way until a single-digit number is produced. The input will be a non-negative integer."
   ]
  },
  {
   "cell_type": "code",
   "execution_count": 5,
   "id": "7a75733a",
   "metadata": {},
   "outputs": [],
   "source": [
    "def digital_root(n):\n",
    "    \n",
    "    if int(n) < 10:\n",
    "        num = n\n",
    "    else:\n",
    "        n = str(n)\n",
    "        dig = []\n",
    "        for digit in n:\n",
    "            dig.append(digit)\n",
    "        countoflist = int(len(dig))\n",
    "        print(dig)\n",
    "        print(countoflist)\n",
    "        #while (countoflist > 1):\n",
    "#              multipledigits = []\n",
    "#              for digit in n:\n",
    "#                  multipledigits.append(digit)\n",
    "        res = []\n",
    "        sum = 0\n",
    "        for y in dig:\n",
    "            sum += int(y)\n",
    "            res.append(sum)   \n",
    "        tempres = res[-1]    \n",
    "        print(tempres)\n",
    "    return num\n"
   ]
  },
  {
   "cell_type": "code",
   "execution_count": 6,
   "id": "8b9d33f5",
   "metadata": {},
   "outputs": [
    {
     "name": "stdout",
     "output_type": "stream",
     "text": [
      "['5', '5', '4']\n",
      "3\n",
      "14\n"
     ]
    },
    {
     "ename": "UnboundLocalError",
     "evalue": "local variable 'num' referenced before assignment",
     "output_type": "error",
     "traceback": [
      "\u001b[0;31m---------------------------------------------------------------------------\u001b[0m",
      "\u001b[0;31mUnboundLocalError\u001b[0m                         Traceback (most recent call last)",
      "\u001b[0;32m/tmp/ipykernel_512/3893212883.py\u001b[0m in \u001b[0;36m<module>\u001b[0;34m\u001b[0m\n\u001b[0;32m----> 1\u001b[0;31m \u001b[0mdigital_root\u001b[0m\u001b[0;34m(\u001b[0m\u001b[0;36m554\u001b[0m\u001b[0;34m)\u001b[0m\u001b[0;34m\u001b[0m\u001b[0;34m\u001b[0m\u001b[0m\n\u001b[0m",
      "\u001b[0;32m/tmp/ipykernel_512/1325246889.py\u001b[0m in \u001b[0;36mdigital_root\u001b[0;34m(n)\u001b[0m\n\u001b[1;32m     22\u001b[0m         \u001b[0mtempres\u001b[0m \u001b[0;34m=\u001b[0m \u001b[0mres\u001b[0m\u001b[0;34m[\u001b[0m\u001b[0;34m-\u001b[0m\u001b[0;36m1\u001b[0m\u001b[0;34m]\u001b[0m\u001b[0;34m\u001b[0m\u001b[0;34m\u001b[0m\u001b[0m\n\u001b[1;32m     23\u001b[0m         \u001b[0mprint\u001b[0m\u001b[0;34m(\u001b[0m\u001b[0mtempres\u001b[0m\u001b[0;34m)\u001b[0m\u001b[0;34m\u001b[0m\u001b[0;34m\u001b[0m\u001b[0m\n\u001b[0;32m---> 24\u001b[0;31m     \u001b[0;32mreturn\u001b[0m \u001b[0mnum\u001b[0m\u001b[0;34m\u001b[0m\u001b[0;34m\u001b[0m\u001b[0m\n\u001b[0m",
      "\u001b[0;31mUnboundLocalError\u001b[0m: local variable 'num' referenced before assignment"
     ]
    }
   ],
   "source": [
    "digital_root(554)"
   ]
  },
  {
   "cell_type": "code",
   "execution_count": null,
   "id": "8de033c3",
   "metadata": {},
   "outputs": [],
   "source": []
  }
 ],
 "metadata": {
  "kernelspec": {
   "display_name": "Python 3 (ipykernel)",
   "language": "python",
   "name": "python3"
  },
  "language_info": {
   "codemirror_mode": {
    "name": "ipython",
    "version": 3
   },
   "file_extension": ".py",
   "mimetype": "text/x-python",
   "name": "python",
   "nbconvert_exporter": "python",
   "pygments_lexer": "ipython3",
   "version": "3.8.12"
  },
  "toc": {
   "base_numbering": 1,
   "nav_menu": {},
   "number_sections": true,
   "sideBar": true,
   "skip_h1_title": false,
   "title_cell": "Table of Contents",
   "title_sidebar": "Contents",
   "toc_cell": false,
   "toc_position": {},
   "toc_section_display": true,
   "toc_window_display": false
  }
 },
 "nbformat": 4,
 "nbformat_minor": 5
}
