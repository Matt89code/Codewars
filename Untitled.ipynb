{
 "cells": [
  {
   "cell_type": "markdown",
   "id": "fc84c53a",
   "metadata": {},
   "source": [
    "# Make a function that does arithmetic!"
   ]
  },
  {
   "cell_type": "markdown",
   "id": "c28c6e04",
   "metadata": {},
   "source": [
    "## Given two numbers and an arithmetic operator (the name of it, as a string), return the result of the two numbers having that operator used on them.a and b will both be positive integers, and a will always be the first number in the operation, and b always the second.The four operators are \"add\", \"subtract\", \"divide\", \"multiply\".A few examples:(Input1, Input2, Input3 --> Output)\n",
    "\n",
    "## 5, 2, \"add\"      --> 7\n",
    "## 5, 2, \"subtract\" --> 3\n",
    "## 5, 2, \"multiply\" --> 10\n",
    "## 5, 2, \"divide\"   --> 2.5"
   ]
  },
  {
   "cell_type": "code",
   "execution_count": null,
   "id": "5db424e1",
   "metadata": {},
   "outputs": [],
   "source": []
  }
 ],
 "metadata": {
  "kernelspec": {
   "display_name": "Python 3 (ipykernel)",
   "language": "python",
   "name": "python3"
  },
  "language_info": {
   "codemirror_mode": {
    "name": "ipython",
    "version": 3
   },
   "file_extension": ".py",
   "mimetype": "text/x-python",
   "name": "python",
   "nbconvert_exporter": "python",
   "pygments_lexer": "ipython3",
   "version": "3.8.12"
  },
  "toc": {
   "base_numbering": 1,
   "nav_menu": {},
   "number_sections": true,
   "sideBar": true,
   "skip_h1_title": false,
   "title_cell": "Table of Contents",
   "title_sidebar": "Contents",
   "toc_cell": false,
   "toc_position": {},
   "toc_section_display": true,
   "toc_window_display": false
  }
 },
 "nbformat": 4,
 "nbformat_minor": 5
}
