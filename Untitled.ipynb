{
 "cells": [
  {
   "cell_type": "markdown",
   "id": "d1f6d36c",
   "metadata": {},
   "source": [
    "# Sum of Digits / Digital Root"
   ]
  },
  {
   "cell_type": "markdown",
   "id": "e8d422da",
   "metadata": {},
   "source": [
    "## Given n, take the sum of the digits of n. If that value has more than one digit, continue reducing in this way until a single-digit number is produced. The input will be a non-negative integer."
   ]
  },
  {
   "cell_type": "code",
   "execution_count": 1,
   "id": "e008fc61",
   "metadata": {},
   "outputs": [],
   "source": [
    "def digital_root(n):\n",
    "    \n",
    "    if int(n) < 10:\n",
    "        num = n\n",
    "    else:\n",
    "        n = str(n)\n",
    "        dig = []\n",
    "        for digit in n:\n",
    "            dig.append(digit)\n",
    "        countoflist = int(len(dig))\n",
    "        print(dig)\n",
    "        print(countoflist)\n",
    "        #while (countoflist > 1):\n",
    "#              multipledigits = []\n",
    "#              for digit in n:\n",
    "#                  multipledigits.append(digit)\n",
    "        res = []\n",
    "        sum = 0\n",
    "        for y in dig:\n",
    "            sum += int(y)\n",
    "            res.append(sum)   \n",
    "        countoflist = res[-1]    \n",
    "        print(res)\n",
    "    return num\n"
   ]
  },
  {
   "cell_type": "code",
   "execution_count": 2,
   "id": "44312653",
   "metadata": {},
   "outputs": [
    {
     "data": {
      "text/plain": [
       "5"
      ]
     },
     "execution_count": 2,
     "metadata": {},
     "output_type": "execute_result"
    }
   ],
   "source": [
    "digital_root(5)"
   ]
  },
  {
   "cell_type": "code",
   "execution_count": null,
   "id": "9d55f0db",
   "metadata": {},
   "outputs": [],
   "source": []
  }
 ],
 "metadata": {
  "kernelspec": {
   "display_name": "Python 3 (ipykernel)",
   "language": "python",
   "name": "python3"
  },
  "language_info": {
   "codemirror_mode": {
    "name": "ipython",
    "version": 3
   },
   "file_extension": ".py",
   "mimetype": "text/x-python",
   "name": "python",
   "nbconvert_exporter": "python",
   "pygments_lexer": "ipython3",
   "version": "3.8.12"
  },
  "toc": {
   "base_numbering": 1,
   "nav_menu": {},
   "number_sections": true,
   "sideBar": true,
   "skip_h1_title": false,
   "title_cell": "Table of Contents",
   "title_sidebar": "Contents",
   "toc_cell": false,
   "toc_position": {},
   "toc_section_display": true,
   "toc_window_display": false
  }
 },
 "nbformat": 4,
 "nbformat_minor": 5
}
