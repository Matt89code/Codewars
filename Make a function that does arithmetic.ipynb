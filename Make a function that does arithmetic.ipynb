{
 "cells": [
  {
   "cell_type": "markdown",
   "id": "fd88e51e",
   "metadata": {},
   "source": [
    "# Make a function that does arithmetic!"
   ]
  },
  {
   "cell_type": "markdown",
   "id": "d1299b07",
   "metadata": {},
   "source": [
    "## Given two numbers and an arithmetic operator (the name of it, as a string), return the result of the two numbers having that operator used on them.a and b will both be positive integers, and a will always be the first number in the operation, and b always the second.The four operators are \"add\", \"subtract\", \"divide\", \"multiply\".A few examples:(Input1, Input2, Input3 --> Output)\n",
    "\n",
    "## 5, 2, \"add\"      --> 7\n",
    "## 5, 2, \"subtract\" --> 3\n",
    "## 5, 2, \"multiply\" --> 10\n",
    "## 5, 2, \"divide\"   --> 2.5"
   ]
  },
  {
   "cell_type": "code",
   "execution_count": 25,
   "id": "31576d3f",
   "metadata": {},
   "outputs": [],
   "source": [
    "def arithmetic(a, b, operator):\n",
    "    \n",
    "    if operator == 'add':\n",
    "        c = a + b\n",
    "    elif operator == 'subtract':\n",
    "        c = a - b\n",
    "    elif operator == 'multiply':\n",
    "        c = a * b\n",
    "    elif operator == 'divide':\n",
    "        c = a / b\n",
    "    else:\n",
    "        print(\"incorrect operator used\")\n",
    "    \n",
    "    return c"
   ]
  },
  {
   "cell_type": "code",
   "execution_count": 26,
   "id": "b347d030",
   "metadata": {},
   "outputs": [
    {
     "data": {
      "text/plain": [
       "9"
      ]
     },
     "execution_count": 26,
     "metadata": {},
     "output_type": "execute_result"
    }
   ],
   "source": [
    "arithmetic(5, 4, 'add')"
   ]
  },
  {
   "cell_type": "markdown",
   "id": "d03941ea",
   "metadata": {},
   "source": [
    "## my attempt at dictionary use and calling operator"
   ]
  },
  {
   "cell_type": "code",
   "execution_count": 36,
   "id": "d40b29d5",
   "metadata": {},
   "outputs": [],
   "source": [
    "def arithmetic1(a, b, operator):\n",
    "    \n",
    "    c = {'add' : '+' , 'subtract' : '-' , 'multiply' : '*' , 'divide' : '/' }\n",
    "    \n",
    "    result = f'(a {(c[operator])} b)'\n",
    "    \n",
    "    return result"
   ]
  },
  {
   "cell_type": "code",
   "execution_count": 38,
   "id": "8a1dcd77",
   "metadata": {},
   "outputs": [
    {
     "data": {
      "text/plain": [
       "'(a + b)'"
      ]
     },
     "execution_count": 38,
     "metadata": {},
     "output_type": "execute_result"
    }
   ],
   "source": [
    "arithmetic1(5, 4, 'add')"
   ]
  },
  {
   "cell_type": "markdown",
   "id": "cb264629",
   "metadata": {},
   "source": [
    "## example of answers"
   ]
  },
  {
   "cell_type": "code",
   "execution_count": 39,
   "id": "7d864f63",
   "metadata": {},
   "outputs": [],
   "source": [
    "def arithmetic1(a, b, operator):\n",
    "    return {\n",
    "        'add': a + b,\n",
    "        'subtract': a - b,\n",
    "        'multiply': a * b,\n",
    "        'divide': a / b,\n",
    "    }[operator]"
   ]
  },
  {
   "cell_type": "markdown",
   "id": "77abaa36",
   "metadata": {},
   "source": [
    "## example of answer"
   ]
  },
  {
   "cell_type": "code",
   "execution_count": 41,
   "id": "077a6171",
   "metadata": {},
   "outputs": [],
   "source": [
    "from operator import add, mul, sub, truediv\n",
    "\n",
    "\n",
    "def arithmetic2(a, b, operator):\n",
    "    ops = {'add': add, 'subtract': sub, 'multiply': mul, 'divide': truediv}\n",
    "    return ops[operator](a, b)"
   ]
  },
  {
   "cell_type": "code",
   "execution_count": null,
   "id": "a4a800be",
   "metadata": {},
   "outputs": [],
   "source": []
  }
 ],
 "metadata": {
  "kernelspec": {
   "display_name": "Python 3 (ipykernel)",
   "language": "python",
   "name": "python3"
  },
  "language_info": {
   "codemirror_mode": {
    "name": "ipython",
    "version": 3
   },
   "file_extension": ".py",
   "mimetype": "text/x-python",
   "name": "python",
   "nbconvert_exporter": "python",
   "pygments_lexer": "ipython3",
   "version": "3.8.12"
  },
  "toc": {
   "base_numbering": 1,
   "nav_menu": {},
   "number_sections": true,
   "sideBar": true,
   "skip_h1_title": false,
   "title_cell": "Table of Contents",
   "title_sidebar": "Contents",
   "toc_cell": false,
   "toc_position": {},
   "toc_section_display": true,
   "toc_window_display": false
  }
 },
 "nbformat": 4,
 "nbformat_minor": 5
}
